{
 "cells": [
  {
   "cell_type": "markdown",
   "metadata": {},
   "source": [
    "# Intro to HDF5 data model\n",
    "\n",
    "High-level overview of the HDF5 file structure and basic tools\n",
    "\n",
    "\n",
    "## What is HDF5?\n",
    "\n",
    "* HDF5 = Hierarchical Data Format Version 5\n",
    "* A file format optimized for numeric data\n",
    "* A hierarquichal structure to store information (like folders)\n",
    "* A self-describing container: Metadata + Data\n",
    "* A library with several functionalities (e.g. command line tools)\n",
    "* It is high level from user side (easy access)\n",
    "* It is low level from machine side (binary, compressible)\n",
    "* Fast I/O, parallel read/write (!), very good for HPC\n",
    "* Data can be read/written in chuncks, in-memory, out-of-memory  \n",
    "\n",
    "Read more: [https://www.hdfgroup.org/solutions/hdf5/](https://www.hdfgroup.org/solutions/hdf5/) \n",
    "\n",
    "## How popular is it?\n",
    "\n",
    "* Matlab `*.m` files **are** HDF5!\n",
    "* NetCDF4 files **are** HDF5!\n",
    "* Keras/TensorFlow saves ML model weights to HDF5\n",
    "* ICESat-2 data comes in HDF5"
   ]
  },
  {
   "cell_type": "markdown",
   "metadata": {},
   "source": [
    "## Write data to HDF5\n",
    "\n",
    "Let's create some fake data"
   ]
  },
  {
   "cell_type": "code",
   "execution_count": 8,
   "metadata": {},
   "outputs": [],
   "source": [
    "%matplotlib inline"
   ]
  },
  {
   "cell_type": "code",
   "execution_count": 9,
   "metadata": {
    "scrolled": true
   },
   "outputs": [
    {
     "name": "stdout",
     "output_type": "stream",
     "text": [
      "[-1.01791208e+00  8.83170063e-01  3.70979527e-01 -6.38485372e-01\n",
      " -5.22138229e-01  1.00362897e+00  4.80178952e-01  6.89631750e-01\n",
      "  3.87285972e-01  3.36495372e-01 -8.22308403e-01 -3.77317431e-01\n",
      " -1.50560026e-01 -1.50085960e-01  5.82606067e-03  1.63083933e-01\n",
      " -6.16063476e-01  5.41810979e-01 -9.71970981e-02  7.40527247e-02\n",
      " -5.95916402e-01  7.04987429e-01  1.21482279e+00  8.47049292e-02\n",
      " -1.54059809e+00  5.06342505e-01 -1.41335328e-01  1.80848111e+00\n",
      " -7.00667804e-01  8.15791408e-01 -1.27487973e+00 -9.87970158e-01\n",
      " -1.43325635e-01 -1.15356875e-01 -9.64811133e-01  1.57200289e-01\n",
      " -1.02963851e+00  1.28268334e+00 -5.26231575e-03 -1.05083920e+00\n",
      " -1.01566539e+00  8.93971339e-01 -7.29671271e-01 -1.16952559e+00\n",
      " -3.07179680e-02  1.24734916e+00  5.23401671e-01  5.44578880e-01\n",
      "  1.32864174e+00 -4.76753532e-01  9.61814418e-01 -1.60420852e+00\n",
      "  7.87813626e-01 -1.96690427e+00 -9.32840072e-02  1.01218445e+00\n",
      "  1.40364101e-03  9.43123321e-01 -1.36917025e+00 -7.84064541e-01\n",
      " -1.08795697e+00 -8.83517397e-01 -3.86472502e-01  1.01324993e+00\n",
      " -2.17917954e+00  8.25431417e-01  4.11197209e-01  3.82933316e-01\n",
      " -1.00196473e+00  9.99788151e-01 -1.10861327e+00  1.25783380e-01\n",
      " -1.14328195e-01  1.36837049e+00  1.46760155e+00  1.98278924e+00\n",
      " -9.21728743e-01  8.24781703e-01  1.97814224e-02 -1.45421257e+00\n",
      "  1.05836668e+00 -1.22640980e-02 -1.73246499e+00 -6.04423353e-01\n",
      "  1.74049954e+00  2.54462984e-01  9.69378049e-01  1.58914004e+00\n",
      "  9.04142486e-02  8.40357824e-01 -7.27852138e-02  1.83770292e+00\n",
      "  5.12870496e-01  5.77574931e-01 -6.43047659e-01  8.74507826e-01\n",
      " -1.21706962e+00 -9.47411431e-01 -2.04247876e+00 -1.78073535e+00]\n"
     ]
    }
   ],
   "source": [
    "import h5py\n",
    "import numpy as np\n",
    "\n",
    "x = np.random.randn(100)\n",
    "y = np.random.randn(100)\n",
    "z = np.random.randn(100)\n",
    "\n",
    "print(x)"
   ]
  },
  {
   "cell_type": "markdown",
   "metadata": {},
   "source": [
    "Save 1D arrays to file"
   ]
  },
  {
   "cell_type": "code",
   "execution_count": 10,
   "metadata": {},
   "outputs": [],
   "source": [
    "with h5py.File('myfile.h5', 'w') as f:  # open file in write mode\n",
    "    f['x'] = x                          # write data\n",
    "    f['y'] = y\n",
    "    f['z'] = z"
   ]
  },
  {
   "cell_type": "code",
   "execution_count": 11,
   "metadata": {},
   "outputs": [
    {
     "name": "stdout",
     "output_type": "stream",
     "text": [
      "myfile.h5\n"
     ]
    }
   ],
   "source": [
    "!ls *.h5  # Check the file was created"
   ]
  },
  {
   "cell_type": "markdown",
   "metadata": {},
   "source": [
    "The HDF5 library comes with some useful command-line tools  \n",
    "There is no need to write code to inspect an HDF5 file!"
   ]
  },
  {
   "cell_type": "code",
   "execution_count": 12,
   "metadata": {},
   "outputs": [
    {
     "name": "stdout",
     "output_type": "stream",
     "text": [
      "x                        Dataset {100}\n",
      "y                        Dataset {100}\n",
      "z                        Dataset {100}\n"
     ]
    }
   ],
   "source": [
    "!h5ls myfile.h5  # inspect the file w/command-line tools"
   ]
  },
  {
   "cell_type": "markdown",
   "metadata": {},
   "source": [
    "> **NOTE:**  \n",
    "> We wil see more sophysticated command-line tools below.\n"
   ]
  },
  {
   "cell_type": "markdown",
   "metadata": {},
   "source": [
    "## Read data from HDF5\n",
    "\n",
    "Load data (in memory) vs. get pointer (out of memory)"
   ]
  },
  {
   "cell_type": "code",
   "execution_count": 13,
   "metadata": {},
   "outputs": [
    {
     "name": "stdout",
     "output_type": "stream",
     "text": [
      "x (in mem):  [-1.01791208e+00  8.83170063e-01  3.70979527e-01 -6.38485372e-01\n",
      " -5.22138229e-01  1.00362897e+00  4.80178952e-01  6.89631750e-01\n",
      "  3.87285972e-01  3.36495372e-01 -8.22308403e-01 -3.77317431e-01\n",
      " -1.50560026e-01 -1.50085960e-01  5.82606067e-03  1.63083933e-01\n",
      " -6.16063476e-01  5.41810979e-01 -9.71970981e-02  7.40527247e-02\n",
      " -5.95916402e-01  7.04987429e-01  1.21482279e+00  8.47049292e-02\n",
      " -1.54059809e+00  5.06342505e-01 -1.41335328e-01  1.80848111e+00\n",
      " -7.00667804e-01  8.15791408e-01 -1.27487973e+00 -9.87970158e-01\n",
      " -1.43325635e-01 -1.15356875e-01 -9.64811133e-01  1.57200289e-01\n",
      " -1.02963851e+00  1.28268334e+00 -5.26231575e-03 -1.05083920e+00\n",
      " -1.01566539e+00  8.93971339e-01 -7.29671271e-01 -1.16952559e+00\n",
      " -3.07179680e-02  1.24734916e+00  5.23401671e-01  5.44578880e-01\n",
      "  1.32864174e+00 -4.76753532e-01  9.61814418e-01 -1.60420852e+00\n",
      "  7.87813626e-01 -1.96690427e+00 -9.32840072e-02  1.01218445e+00\n",
      "  1.40364101e-03  9.43123321e-01 -1.36917025e+00 -7.84064541e-01\n",
      " -1.08795697e+00 -8.83517397e-01 -3.86472502e-01  1.01324993e+00\n",
      " -2.17917954e+00  8.25431417e-01  4.11197209e-01  3.82933316e-01\n",
      " -1.00196473e+00  9.99788151e-01 -1.10861327e+00  1.25783380e-01\n",
      " -1.14328195e-01  1.36837049e+00  1.46760155e+00  1.98278924e+00\n",
      " -9.21728743e-01  8.24781703e-01  1.97814224e-02 -1.45421257e+00\n",
      "  1.05836668e+00 -1.22640980e-02 -1.73246499e+00 -6.04423353e-01\n",
      "  1.74049954e+00  2.54462984e-01  9.69378049e-01  1.58914004e+00\n",
      "  9.04142486e-02  8.40357824e-01 -7.27852138e-02  1.83770292e+00\n",
      "  5.12870496e-01  5.77574931e-01 -6.43047659e-01  8.74507826e-01\n",
      " -1.21706962e+00 -9.47411431e-01 -2.04247876e+00 -1.78073535e+00]\n",
      "y (on disk): <HDF5 dataset \"y\": shape (100,), type \"<f8\">\n",
      "\n",
      "x (in mem):  <class 'numpy.ndarray'>\n",
      "y (on disk): <class 'h5py._hl.dataset.Dataset'>\n",
      "\n",
      "x (in mem):  (100,)\n",
      "y (on disk): (100,)\n"
     ]
    }
   ],
   "source": [
    "with h5py.File('myfile.h5', 'r') as f:  # open file\n",
    "    x = f['x'][:]                       # read data into memory\n",
    "    y = f['y']                          # get pointer to data on disk\n",
    "    \n",
    "    print('x (in mem): ', x)\n",
    "    print('y (on disk):', y)\n",
    "    print('')\n",
    "    print('x (in mem): ', type(x))\n",
    "    print('y (on disk):', type(y))\n",
    "    print('')\n",
    "    print('x (in mem): ', x.shape)\n",
    "    print('y (on disk):', y.shape)  # same info from out-of-memory array"
   ]
  },
  {
   "cell_type": "markdown",
   "metadata": {},
   "source": [
    "## Append data to HDF5\n",
    "\n",
    "Let's add some data with specific paths (groups)"
   ]
  },
  {
   "cell_type": "code",
   "execution_count": 14,
   "metadata": {},
   "outputs": [],
   "source": [
    "with h5py.File('myfile.h5', 'a') as f:\n",
    "    f['/path/to/data/vec'] = z**2\n",
    "    f['/path/to/data/mat'] = z.reshape(10,10)"
   ]
  },
  {
   "cell_type": "markdown",
   "metadata": {},
   "source": [
    "> **NOTE:**  \n",
    "> `path`, `to` and `data` are groups  \n",
    "> `vec` and `mat` are datasets  "
   ]
  },
  {
   "cell_type": "code",
   "execution_count": 15,
   "metadata": {},
   "outputs": [
    {
     "name": "stdout",
     "output_type": "stream",
     "text": [
      "/                        Group\n",
      "/path                    Group\n",
      "/path/to                 Group\n",
      "/path/to/data            Group\n",
      "/path/to/data/mat        Dataset {10, 10}\n",
      "/path/to/data/vec        Dataset {100}\n",
      "/x                       Dataset {100}\n",
      "/y                       Dataset {100}\n",
      "/z                       Dataset {100}\n"
     ]
    }
   ],
   "source": [
    "# Inspect file from the command line\n",
    "!h5ls -r myfile.h5"
   ]
  },
  {
   "cell_type": "markdown",
   "metadata": {},
   "source": [
    "Now our HDF5 file has some structure!"
   ]
  },
  {
   "cell_type": "markdown",
   "metadata": {},
   "source": [
    "## Add metadata to HDF5\n",
    "\n",
    "Let's first inpect the metadata that's added by default"
   ]
  },
  {
   "cell_type": "code",
   "execution_count": 16,
   "metadata": {},
   "outputs": [
    {
     "name": "stdout",
     "output_type": "stream",
     "text": [
      "HDF5 \"myfile.h5\" {\n",
      "GROUP \"/\" {\n",
      "   GROUP \"path\" {\n",
      "      GROUP \"to\" {\n",
      "         GROUP \"data\" {\n",
      "            DATASET \"mat\" {\n",
      "               DATATYPE  H5T_IEEE_F64LE\n",
      "               DATASPACE  SIMPLE { ( 10, 10 ) / ( 10, 10 ) }\n",
      "            }\n",
      "            DATASET \"vec\" {\n",
      "               DATATYPE  H5T_IEEE_F64LE\n",
      "               DATASPACE  SIMPLE { ( 100 ) / ( 100 ) }\n",
      "            }\n",
      "         }\n",
      "      }\n",
      "   }\n",
      "   DATASET \"x\" {\n",
      "      DATATYPE  H5T_IEEE_F64LE\n",
      "      DATASPACE  SIMPLE { ( 100 ) / ( 100 ) }\n",
      "   }\n",
      "   DATASET \"y\" {\n",
      "      DATATYPE  H5T_IEEE_F64LE\n",
      "      DATASPACE  SIMPLE { ( 100 ) / ( 100 ) }\n",
      "   }\n",
      "   DATASET \"z\" {\n",
      "      DATATYPE  H5T_IEEE_F64LE\n",
      "      DATASPACE  SIMPLE { ( 100 ) / ( 100 ) }\n",
      "   }\n",
      "}\n",
      "}\n"
     ]
    }
   ],
   "source": [
    "# Inspect Metadate from the commaand line\n",
    "!h5dump -H myfile.h5"
   ]
  },
  {
   "cell_type": "markdown",
   "metadata": {},
   "source": [
    "Let's add our own metadata"
   ]
  },
  {
   "cell_type": "code",
   "execution_count": 17,
   "metadata": {},
   "outputs": [],
   "source": [
    "with h5py.File('myfile.h5', 'a') as f:\n",
    "    g = f['/path']               # pointer to group 'path'\n",
    "    d = f['/path/to/data/mat']   # pointer to dataset 'mat'\n",
    "    \n",
    "    # Metadata for the group\n",
    "    g.attrs['Description'] = 'This is a group'\n",
    "    g.attrs['Author'] = 'Your name'\n",
    "    g.attrs['email'] = 'yourname@domain.com'\n",
    "    \n",
    "    # Metadata for the data\n",
    "    d.attrs['Description'] = 'This is an array'\n",
    "    d.attrs['Date'] = '2020-07-01'\n",
    "    d.attrs['Version'] = '1.2'"
   ]
  },
  {
   "cell_type": "code",
   "execution_count": 21,
   "metadata": {},
   "outputs": [
    {
     "name": "stdout",
     "output_type": "stream",
     "text": [
      "HDF5 \"myfile.h5\" {\n",
      "GROUP \"/\" {\n",
      "   GROUP \"path\" {\n",
      "      ATTRIBUTE \"Author\" {\n",
      "         DATATYPE  H5T_STRING {\n",
      "            STRSIZE H5T_VARIABLE;\n",
      "            STRPAD H5T_STR_NULLTERM;\n",
      "            CSET H5T_CSET_UTF8;\n",
      "            CTYPE H5T_C_S1;\n",
      "         }\n",
      "         DATASPACE  SCALAR\n",
      "      }\n",
      "      ATTRIBUTE \"Description\" {\n",
      "         DATATYPE  H5T_STRING {\n",
      "            STRSIZE H5T_VARIABLE;\n",
      "            STRPAD H5T_STR_NULLTERM;\n",
      "            CSET H5T_CSET_UTF8;\n",
      "            CTYPE H5T_C_S1;\n",
      "         }\n",
      "         DATASPACE  SCALAR\n",
      "      }\n",
      "      ATTRIBUTE \"email\" {\n",
      "         DATATYPE  H5T_STRING {\n",
      "            STRSIZE H5T_VARIABLE;\n",
      "            STRPAD H5T_STR_NULLTERM;\n",
      "            CSET H5T_CSET_UTF8;\n",
      "            CTYPE H5T_C_S1;\n",
      "         }\n",
      "         DATASPACE  SCALAR\n",
      "      }\n",
      "      GROUP \"to\" {\n",
      "         GROUP \"data\" {\n",
      "            DATASET \"mat\" {\n",
      "               DATATYPE  H5T_IEEE_F64LE\n",
      "               DATASPACE  SIMPLE { ( 10, 10 ) / ( 10, 10 ) }\n",
      "               ATTRIBUTE \"Date\" {\n",
      "                  DATATYPE  H5T_STRING {\n",
      "                     STRSIZE H5T_VARIABLE;\n",
      "                     STRPAD H5T_STR_NULLTERM;\n",
      "                     CSET H5T_CSET_UTF8;\n",
      "                     CTYPE H5T_C_S1;\n",
      "                  }\n",
      "                  DATASPACE  SCALAR\n",
      "               }\n",
      "               ATTRIBUTE \"Description\" {\n",
      "                  DATATYPE  H5T_STRING {\n",
      "                     STRSIZE H5T_VARIABLE;\n",
      "                     STRPAD H5T_STR_NULLTERM;\n",
      "                     CSET H5T_CSET_UTF8;\n",
      "                     CTYPE H5T_C_S1;\n",
      "                  }\n",
      "                  DATASPACE  SCALAR\n",
      "               }\n",
      "               ATTRIBUTE \"Version\" {\n",
      "                  DATATYPE  H5T_STRING {\n",
      "                     STRSIZE H5T_VARIABLE;\n",
      "                     STRPAD H5T_STR_NULLTERM;\n",
      "                     CSET H5T_CSET_UTF8;\n",
      "                     CTYPE H5T_C_S1;\n",
      "                  }\n",
      "                  DATASPACE  SCALAR\n",
      "               }\n",
      "            }\n",
      "            DATASET \"vec\" {\n",
      "               DATATYPE  H5T_IEEE_F64LE\n",
      "               DATASPACE  SIMPLE { ( 100 ) / ( 100 ) }\n",
      "            }\n",
      "         }\n",
      "      }\n",
      "   }\n",
      "   DATASET \"x\" {\n",
      "      DATATYPE  H5T_IEEE_F64LE\n",
      "      DATASPACE  SIMPLE { ( 100 ) / ( 100 ) }\n",
      "   }\n",
      "   DATASET \"y\" {\n",
      "      DATATYPE  H5T_IEEE_F64LE\n",
      "      DATASPACE  SIMPLE { ( 100 ) / ( 100 ) }\n",
      "   }\n",
      "   DATASET \"z\" {\n",
      "      DATATYPE  H5T_IEEE_F64LE\n",
      "      DATASPACE  SIMPLE { ( 100 ) / ( 100 ) }\n",
      "   }\n",
      "}\n",
      "}\n"
     ]
    }
   ],
   "source": [
    "# Inspect Metadata from the commaand line\n",
    "!h5dump --header myfile.h5"
   ]
  },
  {
   "cell_type": "markdown",
   "metadata": {},
   "source": [
    "## Copy some data to another HDF5"
   ]
  },
  {
   "cell_type": "code",
   "execution_count": 45,
   "metadata": {},
   "outputs": [
    {
     "name": "stdout",
     "output_type": "stream",
     "text": [
      "myfile.h5\n",
      "myfile2.h5\n",
      "/                        Group\n",
      "/mat                     Dataset {10, 10}\n",
      "/x                       Dataset {100}\n"
     ]
    }
   ],
   "source": [
    "%%bash\n",
    "\n",
    "h5copy -i myfile.h5 -o myfile2.h5 -s x -d x\n",
    "\n",
    "h5copy -i myfile.h5 -o myfile2.h5 -s /path/to/data/mat -d mat\n",
    "\n",
    "ls *.h5\n",
    "h5ls -r myfile2.h5"
   ]
  },
  {
   "cell_type": "markdown",
   "metadata": {},
   "source": [
    "Let's check the differences between original and copy files "
   ]
  },
  {
   "cell_type": "code",
   "execution_count": 59,
   "metadata": {},
   "outputs": [
    {
     "name": "stdout",
     "output_type": "stream",
     "text": [
      "\n",
      "file1     file2\n",
      "---------------------------------------\n",
      "    x      x    /              \n",
      "           x    /mat           \n",
      "    x           /path          \n",
      "    x           /path/to       \n",
      "    x           /path/to/data  \n",
      "    x           /path/to/data/mat\n",
      "    x           /path/to/data/vec\n",
      "    x      x    /x             \n",
      "    x           /y             \n",
      "    x           /z             \n",
      "\n",
      "group  : </> and </>\n",
      "0 differences found\n",
      "dataset: </x> and </x>\n",
      "0 differences found\n"
     ]
    }
   ],
   "source": [
    "!h5diff -v myfile.h5 myfile2.h5"
   ]
  },
  {
   "cell_type": "markdown",
   "metadata": {},
   "source": [
    "## Inspect HDF5 from Python\n",
    "\n",
    "Let's do the same as above but using Python code"
   ]
  },
  {
   "cell_type": "code",
   "execution_count": 61,
   "metadata": {},
   "outputs": [
    {
     "name": "stdout",
     "output_type": "stream",
     "text": [
      "<KeysViewHDF5 ['path', 'x', 'y', 'z']>\n"
     ]
    }
   ],
   "source": [
    "f = h5py.File('myfile.h5', 'r')  # keep it open\n",
    "\n",
    "print(f.keys())  # Inspect base groups quickly"
   ]
  },
  {
   "cell_type": "markdown",
   "metadata": {},
   "source": [
    "Inspect the full structure w/metadata"
   ]
  },
  {
   "cell_type": "code",
   "execution_count": 62,
   "metadata": {},
   "outputs": [
    {
     "name": "stdout",
     "output_type": "stream",
     "text": [
      "path\n",
      "    Author: Your name\n",
      "    Description: This is a group\n",
      "    email: yourname@domain.com\n",
      "path/to\n",
      "path/to/data\n",
      "path/to/data/mat\n",
      "    Date: 2020-07-01\n",
      "    Description: This is an array\n",
      "    Version: 1.2\n",
      "path/to/data/vec\n",
      "x\n",
      "y\n",
      "z\n"
     ]
    }
   ],
   "source": [
    "def print_attrs(name, obj):\n",
    "    print(name)\n",
    "    for key, val in obj.attrs.items():\n",
    "        print(\"    %s: %s\" % (key, val))\n",
    "\n",
    "f.visititems(print_attrs)        "
   ]
  },
  {
   "cell_type": "code",
   "execution_count": 63,
   "metadata": {},
   "outputs": [],
   "source": [
    "f.close()"
   ]
  },
  {
   "cell_type": "markdown",
   "metadata": {},
   "source": [
    "## Create an extendable dataset\n",
    "\n",
    "Create an empty container (called `grids`) extendable in the 3rd dim"
   ]
  },
  {
   "cell_type": "code",
   "execution_count": 64,
   "metadata": {},
   "outputs": [],
   "source": [
    "with h5py.File('myfile.h5', 'a') as f:\n",
    "    dset = f.create_dataset(\n",
    "        \"grids\", \n",
    "        (10,10,5), \n",
    "        maxshape=(10,10,None), \n",
    "        dtype='f4', \n",
    "        compression='gzip')"
   ]
  },
  {
   "cell_type": "markdown",
   "metadata": {},
   "source": [
    "Check that our created container has an infinity dimension"
   ]
  },
  {
   "cell_type": "code",
   "execution_count": 65,
   "metadata": {},
   "outputs": [
    {
     "name": "stdout",
     "output_type": "stream",
     "text": [
      "/                        Group\n",
      "/grids                   Dataset {10, 10, 5/Inf}\n",
      "/path                    Group\n",
      "/path/to                 Group\n",
      "/path/to/data            Group\n",
      "/path/to/data/mat        Dataset {10, 10}\n",
      "/path/to/data/vec        Dataset {100}\n",
      "/x                       Dataset {100}\n",
      "/y                       Dataset {100}\n",
      "/z                       Dataset {100}\n"
     ]
    }
   ],
   "source": [
    "!h5ls -r myfile.h5"
   ]
  },
  {
   "cell_type": "markdown",
   "metadata": {},
   "source": [
    "Create a bunch of 2D grids to save to our empty container"
   ]
  },
  {
   "cell_type": "code",
   "execution_count": 66,
   "metadata": {},
   "outputs": [
    {
     "name": "stdout",
     "output_type": "stream",
     "text": [
      "(5, 10, 10)\n"
     ]
    }
   ],
   "source": [
    "mygrids = [np.random.randn(10,10) for _ in range(5)]\n",
    "\n",
    "print(np.shape(mygrids))  # 5 grids of 10 by 10"
   ]
  },
  {
   "cell_type": "markdown",
   "metadata": {},
   "source": [
    "Save grids one at a time and close the file"
   ]
  },
  {
   "cell_type": "code",
   "execution_count": 67,
   "metadata": {},
   "outputs": [],
   "source": [
    "with h5py.File('myfile.h5', 'a') as f:\n",
    "    grids = f['grids']\n",
    "    \n",
    "    for k,g in enumerate(mygrids):\n",
    "        grids[:,:,k] = g"
   ]
  },
  {
   "cell_type": "markdown",
   "metadata": {},
   "source": [
    "Read in (select) specific grids with fancy indexing"
   ]
  },
  {
   "cell_type": "code",
   "execution_count": 68,
   "metadata": {},
   "outputs": [
    {
     "name": "stdout",
     "output_type": "stream",
     "text": [
      "(10, 10, 3)\n"
     ]
    }
   ],
   "source": [
    "with h5py.File('myfile.h5', 'r') as f:\n",
    "    mygrids = f['grids'][:,:,[0,2,4]]  # 3 grids out of 5\n",
    "    \n",
    "print(np.shape(mygrids))"
   ]
  },
  {
   "cell_type": "code",
   "execution_count": 69,
   "metadata": {},
   "outputs": [
    {
     "data": {
      "image/png": "[encoded data removed]",
      "text/plain": [
       "<Figure size 288x288 with 1 Axes>"
      ]
     },
     "metadata": {
      "needs_background": "light"
     },
     "output_type": "display_data"
    },
    {
     "data": {
      "image/png": "[encoded data removed]",
      "text/plain": [
       "<Figure size 288x288 with 1 Axes>"
      ]
     },
     "metadata": {
      "needs_background": "light"
     },
     "output_type": "display_data"
    },
    {
     "data": {
      "image/png": "[encoded data removed]",
      "text/plain": [
       "<Figure size 288x288 with 1 Axes>"
      ]
     },
     "metadata": {
      "needs_background": "light"
     },
     "output_type": "display_data"
    }
   ],
   "source": [
    "%matplotlib inline\n",
    "import matplotlib.pyplot as plt\n",
    "\n",
    "# Plot each grid to check dimensions are right\n",
    "[plt.matshow(mygrids[:,:,k]) for k in range(mygrids.shape[2])]\n",
    "plt.show()"
   ]
  },
  {
   "cell_type": "markdown",
   "metadata": {},
   "source": [
    "## What about the cloud?"
   ]
  },
  {
   "cell_type": "markdown",
   "metadata": {},
   "source": [
    "The HDF Group (the organization behind HDF5) offers a cloud solution for HDF5:\n",
    "\n",
    "- [Highly Scalable Data Service (HSDS)](https://www.hdfgroup.org/solutions/highly-scalable-data-service-hsds/) - an interface for reading and writing HDF5 within object-based storage environments such as the Cloud.\n",
    "\n",
    "The HDF Group also offers commercial product services around HSDS:\n",
    "\n",
    "- Kita Lab, ... "
   ]
  },
  {
   "cell_type": "markdown",
   "metadata": {},
   "source": [
    "## The Zarr library (a newcomer)\n",
    "\n",
    "Say something about Zarr... why? what's different? what's better?\n",
    "\n",
    "- `h5py` and `zarr` have an identical interface to access the data"
   ]
  },
  {
   "cell_type": "markdown",
   "metadata": {},
   "source": [
    "## Final thoughts on HDF5\n",
    "\n",
    "- Many small files is usually more practical than a few large ones (for processing)\n",
    "- Read/Write is faster on smaller files (faster queries)\n",
    "- Network transfer is usually faster with a bunch of smaller files\n",
    "- Storing a lot of data into a single file is susceptible to corruption\n",
    "- Many small files simplifies (embarrasingly) parallelization"
   ]
  },
  {
   "cell_type": "markdown",
   "metadata": {},
   "source": [
    "## Bonus: HDFView Software\n",
    "\n",
    "[HDFView](https://www.hdfgroup.org/downloads/hdfview/) is a visual tool written in Java for browsing and editing HDF5 and HDF4 files. You can:\n",
    "\n",
    "- View a file hierarchy in a tree structure\n",
    "- Create new files, add or delete groups and datasets\n",
    "- View and modify the content of a dataset\n",
    "- Add, delete and modify attributes"
   ]
  },
  {
   "cell_type": "code",
   "execution_count": null,
   "metadata": {},
   "outputs": [],
   "source": []
  }
 ],
 "metadata": {
  "kernelspec": {
   "display_name": "Python 3",
   "language": "python",
   "name": "python3"
  },
  "language_info": {
   "codemirror_mode": {
    "name": "ipython",
    "version": 3
   },
   "file_extension": ".py",
   "mimetype": "text/x-python",
   "name": "python",
   "nbconvert_exporter": "python",
   "pygments_lexer": "ipython3",
   "version": "3.7.4"
  }
 },
 "nbformat": 4,
 "nbformat_minor": 4
}
