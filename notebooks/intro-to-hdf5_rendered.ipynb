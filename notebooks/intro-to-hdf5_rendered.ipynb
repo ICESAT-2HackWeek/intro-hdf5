{
 "cells": [
  {
   "cell_type": "markdown",
   "metadata": {},
   "source": [
    "# Intro to HDF5 data model\n",
    "\n",
    "* High-level overview of the HDF5 file strudcture and basic tools\n",
    "\n",
    "\n",
    "## What's HDF5?\n",
    "\n",
    "* HDF5 = Hierarchical Data Format Version 5\n",
    "* A file format optimized for numeric data\n",
    "* A hierarquichal structure to store information (like folders)\n",
    "* A self-describing container: Metadata + Data\n",
    "* A library with several functionalities (tools)\n",
    "* High level from user side (easy access) / Low level from machine side (binary, compressible)\n",
    "* Fast I/O, parallel reading/writing (!), very good for HPC\n",
    "* Data can be read/written in chuncks, in-memory, out-of-memory  \n",
    "\n",
    "Read more: [https://www.hdfgroup.org/solutions/hdf5/](https://www.hdfgroup.org/solutions/hdf5/) \n",
    "\n",
    "## How popular is it?\n",
    "* Matlab `*.m` files **are** HDF5!\n",
    "* NetCDF4 files **are** HDF5!\n",
    "* ICESat-2 data comes in HDF5"
   ]
  },
  {
   "cell_type": "markdown",
   "metadata": {},
   "source": [
    "## Write data to HDF5\n",
    "\n",
    "Let's create some fake data"
   ]
  },
  {
   "cell_type": "code",
   "execution_count": 4,
   "metadata": {},
   "outputs": [],
   "source": [
    "%matplotlib inline"
   ]
  },
  {
   "cell_type": "code",
   "execution_count": 5,
   "metadata": {
    "scrolled": true
   },
   "outputs": [
    {
     "name": "stdout",
     "output_type": "stream",
     "text": [
      "[-1.17810300e+00  4.92165922e-01 -6.28310766e-01 -1.01736856e+00\n",
      " -2.75882985e-02 -1.31115622e+00 -1.03739686e+00  7.85862355e-01\n",
      " -9.57980538e-01 -9.83571900e-03 -9.77938307e-01 -5.63877665e-01\n",
      " -1.54177295e+00 -2.68832360e-01  6.50000763e-01  4.54624034e-02\n",
      " -1.39600018e+00  2.77440145e-01 -3.30264003e-01  9.43053364e-03\n",
      "  8.49028964e-01 -2.16018101e+00 -2.98947778e-01  1.41343155e-03\n",
      "  4.56584580e-01 -4.56783842e-01  1.31501647e+00 -1.84023042e+00\n",
      "  3.92644928e-01 -2.10216420e-01 -5.35963880e-01  4.64478172e-01\n",
      "  6.13842854e-01  4.31984257e-01 -1.35627322e+00  4.59049557e-01\n",
      "  8.28192468e-01 -1.94771227e+00 -9.61864020e-01  3.10717381e-01\n",
      " -1.13429020e+00 -3.97000355e-01 -1.58854125e+00  5.99333245e-01\n",
      " -2.19463457e-01  7.00161994e-01 -1.63350082e+00  2.78043299e-01\n",
      " -5.43529821e-01 -1.68733339e+00 -1.01407576e+00 -1.60827872e-01\n",
      " -4.75821670e-01  7.80836557e-02  1.28097527e+00 -6.25748168e-01\n",
      "  7.26383363e-01 -2.58838384e-01 -7.95933765e-01  2.83112535e-01\n",
      " -4.52171829e-01  3.43425599e-01  4.94187468e-01  4.30020408e-01\n",
      "  1.37670976e+00 -3.98152974e-01 -1.64975516e+00 -8.82258059e-01\n",
      " -1.14014004e+00  1.47517602e+00  1.40312980e+00  5.21577238e-01\n",
      " -2.86945618e-01 -2.78985873e-01  1.02115612e+00  1.06796687e+00\n",
      "  1.91093691e-01 -1.12905869e-01  1.66054019e+00  6.29917226e-01\n",
      " -1.44744817e-01  1.82389879e+00 -3.35419482e-01 -9.43489833e-01\n",
      "  1.28524826e+00  5.75652004e-01 -2.07645535e-01 -1.36201854e+00\n",
      " -8.65084772e-01 -3.50592633e-01 -1.42603270e+00  1.34828537e+00\n",
      "  4.94861483e-01 -1.13146199e+00  1.07440999e+00 -1.30961518e+00\n",
      "  1.40722007e-01 -5.96393171e-02  3.99602528e-01  6.16327589e-01]\n"
     ]
    }
   ],
   "source": [
    "import h5py\n",
    "import numpy as np\n",
    "\n",
    "x = np.random.randn(100)\n",
    "y = np.random.randn(100)\n",
    "z = np.random.randn(100)\n",
    "\n",
    "print(x)"
   ]
  },
  {
   "cell_type": "markdown",
   "metadata": {},
   "source": [
    "Save 1D arrays to file"
   ]
  },
  {
   "cell_type": "code",
   "execution_count": 6,
   "metadata": {},
   "outputs": [],
   "source": [
    "#!rm myfile.h5                           # remove old file if previously written\n",
    "#!rm data/*_gt*                          # remove existing data just in case\n",
    "\n",
    "with h5py.File('myfile.h5', 'w') as f:  # open file in write mode\n",
    "    f['x'] = x                          # write data\n",
    "    f['y'] = y\n",
    "    f['z'] = z"
   ]
  },
  {
   "cell_type": "code",
   "execution_count": 7,
   "metadata": {},
   "outputs": [
    {
     "name": "stdout",
     "output_type": "stream",
     "text": [
      "myfile.h5\r\n"
     ]
    }
   ],
   "source": [
    "!ls *.h5  # Check the file was created"
   ]
  },
  {
   "cell_type": "markdown",
   "metadata": {},
   "source": [
    "**NOTE:**  \n",
    "**The HDF5 library comes with some useful command-line tools**  \n",
    "**There is no need to write code to inspect an HDF5 file!**"
   ]
  },
  {
   "cell_type": "code",
   "execution_count": 8,
   "metadata": {},
   "outputs": [
    {
     "name": "stdout",
     "output_type": "stream",
     "text": [
      "x                        Dataset {100}\r\n",
      "y                        Dataset {100}\r\n",
      "z                        Dataset {100}\r\n"
     ]
    }
   ],
   "source": [
    "!h5ls myfile.h5  # inspect the file w/command-line tools"
   ]
  },
  {
   "cell_type": "markdown",
   "metadata": {},
   "source": [
    "OBS: More sophysticated command-line tools below.\n"
   ]
  },
  {
   "cell_type": "markdown",
   "metadata": {},
   "source": [
    "## Read data from HDF5\n",
    "\n",
    "Load data (in memory) vs. get pointer (out of memory)"
   ]
  },
  {
   "cell_type": "code",
   "execution_count": 9,
   "metadata": {},
   "outputs": [
    {
     "name": "stdout",
     "output_type": "stream",
     "text": [
      "x (in mem):  [-1.17810300e+00  4.92165922e-01 -6.28310766e-01 -1.01736856e+00\n",
      " -2.75882985e-02 -1.31115622e+00 -1.03739686e+00  7.85862355e-01\n",
      " -9.57980538e-01 -9.83571900e-03 -9.77938307e-01 -5.63877665e-01\n",
      " -1.54177295e+00 -2.68832360e-01  6.50000763e-01  4.54624034e-02\n",
      " -1.39600018e+00  2.77440145e-01 -3.30264003e-01  9.43053364e-03\n",
      "  8.49028964e-01 -2.16018101e+00 -2.98947778e-01  1.41343155e-03\n",
      "  4.56584580e-01 -4.56783842e-01  1.31501647e+00 -1.84023042e+00\n",
      "  3.92644928e-01 -2.10216420e-01 -5.35963880e-01  4.64478172e-01\n",
      "  6.13842854e-01  4.31984257e-01 -1.35627322e+00  4.59049557e-01\n",
      "  8.28192468e-01 -1.94771227e+00 -9.61864020e-01  3.10717381e-01\n",
      " -1.13429020e+00 -3.97000355e-01 -1.58854125e+00  5.99333245e-01\n",
      " -2.19463457e-01  7.00161994e-01 -1.63350082e+00  2.78043299e-01\n",
      " -5.43529821e-01 -1.68733339e+00 -1.01407576e+00 -1.60827872e-01\n",
      " -4.75821670e-01  7.80836557e-02  1.28097527e+00 -6.25748168e-01\n",
      "  7.26383363e-01 -2.58838384e-01 -7.95933765e-01  2.83112535e-01\n",
      " -4.52171829e-01  3.43425599e-01  4.94187468e-01  4.30020408e-01\n",
      "  1.37670976e+00 -3.98152974e-01 -1.64975516e+00 -8.82258059e-01\n",
      " -1.14014004e+00  1.47517602e+00  1.40312980e+00  5.21577238e-01\n",
      " -2.86945618e-01 -2.78985873e-01  1.02115612e+00  1.06796687e+00\n",
      "  1.91093691e-01 -1.12905869e-01  1.66054019e+00  6.29917226e-01\n",
      " -1.44744817e-01  1.82389879e+00 -3.35419482e-01 -9.43489833e-01\n",
      "  1.28524826e+00  5.75652004e-01 -2.07645535e-01 -1.36201854e+00\n",
      " -8.65084772e-01 -3.50592633e-01 -1.42603270e+00  1.34828537e+00\n",
      "  4.94861483e-01 -1.13146199e+00  1.07440999e+00 -1.30961518e+00\n",
      "  1.40722007e-01 -5.96393171e-02  3.99602528e-01  6.16327589e-01]\n",
      "y (on disk): <HDF5 dataset \"y\": shape (100,), type \"<f8\">\n",
      "\n",
      "x (in mem):  <class 'numpy.ndarray'>\n",
      "y (on disk): <class 'h5py._hl.dataset.Dataset'>\n",
      "\n",
      "x (in mem):  (100,)\n",
      "y (on disk): (100,)\n"
     ]
    }
   ],
   "source": [
    "with h5py.File('myfile.h5', 'r') as f:  # open file\n",
    "    x = f['x'][:]                       # read data into memory\n",
    "    y = f['y']                          # get pointer to data on disk\n",
    "    \n",
    "    print('x (in mem): ', x)\n",
    "    print('y (on disk):', y)\n",
    "    print('')\n",
    "    print('x (in mem): ', type(x))\n",
    "    print('y (on disk):', type(y))\n",
    "    print('')\n",
    "    print('x (in mem): ', x.shape)\n",
    "    print('y (on disk):', y.shape)  # same info from out-of-memory array"
   ]
  },
  {
   "cell_type": "markdown",
   "metadata": {},
   "source": [
    "## Append data to HDF5\n",
    "\n",
    "Let's add some data with specific paths (groups)"
   ]
  },
  {
   "cell_type": "code",
   "execution_count": 10,
   "metadata": {},
   "outputs": [],
   "source": [
    "with h5py.File('myfile.h5', 'a') as f:\n",
    "    f['/path/to/data/vec'] = z**2\n",
    "    f['/path/to/data/mat'] = z.reshape(10,10)\n",
    "    \n",
    "    # NOTE: 'path', 'to' and 'data' are groups\n",
    "    # 'vec' and 'mat' are datasets"
   ]
  },
  {
   "cell_type": "code",
   "execution_count": 11,
   "metadata": {},
   "outputs": [
    {
     "name": "stdout",
     "output_type": "stream",
     "text": [
      "/                        Group\r\n",
      "/path                    Group\r\n",
      "/path/to                 Group\r\n",
      "/path/to/data            Group\r\n",
      "/path/to/data/mat        Dataset {10, 10}\r\n",
      "/path/to/data/vec        Dataset {100}\r\n",
      "/x                       Dataset {100}\r\n",
      "/y                       Dataset {100}\r\n",
      "/z                       Dataset {100}\r\n"
     ]
    }
   ],
   "source": [
    "# Inspect file from the command line\n",
    "!h5ls -r myfile.h5"
   ]
  },
  {
   "cell_type": "markdown",
   "metadata": {},
   "source": [
    "Now our HDF5 file has some structure!"
   ]
  },
  {
   "cell_type": "markdown",
   "metadata": {},
   "source": [
    "## Add metadata to HDF5\n",
    "\n",
    "Let's first inpect the metadata added by default"
   ]
  },
  {
   "cell_type": "code",
   "execution_count": 12,
   "metadata": {},
   "outputs": [
    {
     "name": "stdout",
     "output_type": "stream",
     "text": [
      "HDF5 \"myfile.h5\" {\r\n",
      "GROUP \"/\" {\r\n",
      "   GROUP \"path\" {\r\n",
      "      GROUP \"to\" {\r\n",
      "         GROUP \"data\" {\r\n",
      "            DATASET \"mat\" {\r\n",
      "               DATATYPE  H5T_IEEE_F64LE\r\n",
      "               DATASPACE  SIMPLE { ( 10, 10 ) / ( 10, 10 ) }\r\n",
      "            }\r\n",
      "            DATASET \"vec\" {\r\n",
      "               DATATYPE  H5T_IEEE_F64LE\r\n",
      "               DATASPACE  SIMPLE { ( 100 ) / ( 100 ) }\r\n",
      "            }\r\n",
      "         }\r\n",
      "      }\r\n",
      "   }\r\n",
      "   DATASET \"x\" {\r\n",
      "      DATATYPE  H5T_IEEE_F64LE\r\n",
      "      DATASPACE  SIMPLE { ( 100 ) / ( 100 ) }\r\n",
      "   }\r\n",
      "   DATASET \"y\" {\r\n",
      "      DATATYPE  H5T_IEEE_F64LE\r\n",
      "      DATASPACE  SIMPLE { ( 100 ) / ( 100 ) }\r\n",
      "   }\r\n",
      "   DATASET \"z\" {\r\n",
      "      DATATYPE  H5T_IEEE_F64LE\r\n",
      "      DATASPACE  SIMPLE { ( 100 ) / ( 100 ) }\r\n",
      "   }\r\n",
      "}\r\n",
      "}\r\n"
     ]
    }
   ],
   "source": [
    "# Inspect Metadate from the commaand line\n",
    "!h5dump -H myfile.h5"
   ]
  },
  {
   "cell_type": "markdown",
   "metadata": {},
   "source": [
    "Let's add our own metadata"
   ]
  },
  {
   "cell_type": "code",
   "execution_count": 13,
   "metadata": {},
   "outputs": [],
   "source": [
    "with h5py.File('myfile.h5', 'a') as f:\n",
    "    g = f['/path']               # pointer to group 'path'\n",
    "    d = f['/path/to/data/mat']   # pointer to dataset 'mat'\n",
    "    \n",
    "    # Metadata for the group\n",
    "    g.attrs['Description'] = 'This is a group'\n",
    "    g.attrs['Author'] = 'Your name'\n",
    "    g.attrs['email'] = 'yourname@domain.com'\n",
    "    \n",
    "    # Metadata for the data\n",
    "    d.attrs['Description'] = 'This is an array'\n",
    "    d.attrs['Date'] = '2019-06-01'\n",
    "    d.attrs['Version'] = '1.2'"
   ]
  },
  {
   "cell_type": "code",
   "execution_count": 14,
   "metadata": {},
   "outputs": [
    {
     "name": "stdout",
     "output_type": "stream",
     "text": [
      "HDF5 \"myfile.h5\" {\r\n",
      "GROUP \"/\" {\r\n",
      "   GROUP \"path\" {\r\n",
      "      ATTRIBUTE \"Author\" {\r\n",
      "         DATATYPE  H5T_STRING {\r\n",
      "            STRSIZE H5T_VARIABLE;\r\n",
      "            STRPAD H5T_STR_NULLTERM;\r\n",
      "            CSET H5T_CSET_UTF8;\r\n",
      "            CTYPE H5T_C_S1;\r\n",
      "         }\r\n",
      "         DATASPACE  SCALAR\r\n",
      "      }\r\n",
      "      ATTRIBUTE \"Description\" {\r\n",
      "         DATATYPE  H5T_STRING {\r\n",
      "            STRSIZE H5T_VARIABLE;\r\n",
      "            STRPAD H5T_STR_NULLTERM;\r\n",
      "            CSET H5T_CSET_UTF8;\r\n",
      "            CTYPE H5T_C_S1;\r\n",
      "         }\r\n",
      "         DATASPACE  SCALAR\r\n",
      "      }\r\n",
      "      ATTRIBUTE \"email\" {\r\n",
      "         DATATYPE  H5T_STRING {\r\n",
      "            STRSIZE H5T_VARIABLE;\r\n",
      "            STRPAD H5T_STR_NULLTERM;\r\n",
      "            CSET H5T_CSET_UTF8;\r\n",
      "            CTYPE H5T_C_S1;\r\n",
      "         }\r\n",
      "         DATASPACE  SCALAR\r\n",
      "      }\r\n",
      "      GROUP \"to\" {\r\n",
      "         GROUP \"data\" {\r\n",
      "            DATASET \"mat\" {\r\n",
      "               DATATYPE  H5T_IEEE_F64LE\r\n",
      "               DATASPACE  SIMPLE { ( 10, 10 ) / ( 10, 10 ) }\r\n",
      "               ATTRIBUTE \"Date\" {\r\n",
      "                  DATATYPE  H5T_STRING {\r\n",
      "                     STRSIZE H5T_VARIABLE;\r\n",
      "                     STRPAD H5T_STR_NULLTERM;\r\n",
      "                     CSET H5T_CSET_UTF8;\r\n",
      "                     CTYPE H5T_C_S1;\r\n",
      "                  }\r\n",
      "                  DATASPACE  SCALAR\r\n",
      "               }\r\n",
      "               ATTRIBUTE \"Description\" {\r\n",
      "                  DATATYPE  H5T_STRING {\r\n",
      "                     STRSIZE H5T_VARIABLE;\r\n",
      "                     STRPAD H5T_STR_NULLTERM;\r\n",
      "                     CSET H5T_CSET_UTF8;\r\n",
      "                     CTYPE H5T_C_S1;\r\n",
      "                  }\r\n",
      "                  DATASPACE  SCALAR\r\n",
      "               }\r\n",
      "               ATTRIBUTE \"Version\" {\r\n",
      "                  DATATYPE  H5T_STRING {\r\n",
      "                     STRSIZE H5T_VARIABLE;\r\n",
      "                     STRPAD H5T_STR_NULLTERM;\r\n",
      "                     CSET H5T_CSET_UTF8;\r\n",
      "                     CTYPE H5T_C_S1;\r\n",
      "                  }\r\n",
      "                  DATASPACE  SCALAR\r\n",
      "               }\r\n",
      "            }\r\n",
      "            DATASET \"vec\" {\r\n",
      "               DATATYPE  H5T_IEEE_F64LE\r\n",
      "               DATASPACE  SIMPLE { ( 100 ) / ( 100 ) }\r\n",
      "            }\r\n",
      "         }\r\n",
      "      }\r\n",
      "   }\r\n",
      "   DATASET \"x\" {\r\n",
      "      DATATYPE  H5T_IEEE_F64LE\r\n",
      "      DATASPACE  SIMPLE { ( 100 ) / ( 100 ) }\r\n",
      "   }\r\n",
      "   DATASET \"y\" {\r\n",
      "      DATATYPE  H5T_IEEE_F64LE\r\n",
      "      DATASPACE  SIMPLE { ( 100 ) / ( 100 ) }\r\n",
      "   }\r\n",
      "   DATASET \"z\" {\r\n",
      "      DATATYPE  H5T_IEEE_F64LE\r\n",
      "      DATASPACE  SIMPLE { ( 100 ) / ( 100 ) }\r\n",
      "   }\r\n",
      "}\r\n",
      "}\r\n"
     ]
    }
   ],
   "source": [
    "# Inspect Metadata from the commaand line\n",
    "!h5dump -H myfile.h5"
   ]
  },
  {
   "cell_type": "markdown",
   "metadata": {},
   "source": [
    "## Inspect HDF5 from Python\n",
    "\n",
    "Let's do the same as above but using Python code"
   ]
  },
  {
   "cell_type": "code",
   "execution_count": 15,
   "metadata": {},
   "outputs": [
    {
     "name": "stdout",
     "output_type": "stream",
     "text": [
      "<KeysViewHDF5 ['path', 'x', 'y', 'z']>\n"
     ]
    }
   ],
   "source": [
    "f = h5py.File('myfile.h5', 'r')  # keep it open\n",
    "\n",
    "# Inspect base groups quickly\n",
    "print(f.keys())"
   ]
  },
  {
   "cell_type": "markdown",
   "metadata": {},
   "source": [
    "Inspect the full structure w/metadata"
   ]
  },
  {
   "cell_type": "code",
   "execution_count": 16,
   "metadata": {},
   "outputs": [
    {
     "name": "stdout",
     "output_type": "stream",
     "text": [
      "path\n",
      "    Author: Your name\n",
      "    Description: This is a group\n",
      "    email: yourname@domain.com\n",
      "path/to\n",
      "path/to/data\n",
      "path/to/data/mat\n",
      "    Date: 2019-06-01\n",
      "    Description: This is an array\n",
      "    Version: 1.2\n",
      "path/to/data/vec\n",
      "x\n",
      "y\n",
      "z\n"
     ]
    }
   ],
   "source": [
    "def print_attrs(name, obj):\n",
    "    print(name)\n",
    "    for key,val in obj.attrs.items():\n",
    "        print(\"    %s: %s\" % (key, val))\n",
    "\n",
    "f.visititems(print_attrs)        "
   ]
  },
  {
   "cell_type": "code",
   "execution_count": 17,
   "metadata": {},
   "outputs": [],
   "source": [
    "f.close()"
   ]
  },
  {
   "cell_type": "markdown",
   "metadata": {},
   "source": [
    "## Create an extendable dataset\n",
    "\n",
    "Create an empty container (called `grids`) extendable in the 3rd dim"
   ]
  },
  {
   "cell_type": "code",
   "execution_count": 18,
   "metadata": {},
   "outputs": [],
   "source": [
    "with h5py.File('myfile.h5', 'a') as f:\n",
    "    dset = f.create_dataset(\"grids\", (10,10,5), maxshape=(10,10,None), dtype='f4', compression='gzip')"
   ]
  },
  {
   "cell_type": "markdown",
   "metadata": {},
   "source": [
    "Check that our created container has an infinity dimension"
   ]
  },
  {
   "cell_type": "code",
   "execution_count": 19,
   "metadata": {},
   "outputs": [
    {
     "name": "stdout",
     "output_type": "stream",
     "text": [
      "/                        Group\r\n",
      "/grids                   Dataset {10, 10, 5/Inf}\r\n",
      "/path                    Group\r\n",
      "/path/to                 Group\r\n",
      "/path/to/data            Group\r\n",
      "/path/to/data/mat        Dataset {10, 10}\r\n",
      "/path/to/data/vec        Dataset {100}\r\n",
      "/x                       Dataset {100}\r\n",
      "/y                       Dataset {100}\r\n",
      "/z                       Dataset {100}\r\n"
     ]
    }
   ],
   "source": [
    "!h5ls -r myfile.h5"
   ]
  },
  {
   "cell_type": "markdown",
   "metadata": {},
   "source": [
    "Create a bunch of 2D grids to save to our empty container"
   ]
  },
  {
   "cell_type": "code",
   "execution_count": 20,
   "metadata": {},
   "outputs": [
    {
     "name": "stdout",
     "output_type": "stream",
     "text": [
      "(5, 10, 10)\n"
     ]
    }
   ],
   "source": [
    "mygrids = [np.random.randn(10,10) for _ in range(5)]\n",
    "\n",
    "print(np.shape(mygrids))  # 5 grids of 10 by 10"
   ]
  },
  {
   "cell_type": "markdown",
   "metadata": {},
   "source": [
    "Save grids one at a time and close the file"
   ]
  },
  {
   "cell_type": "code",
   "execution_count": 21,
   "metadata": {},
   "outputs": [],
   "source": [
    "with h5py.File('myfile.h5', 'a') as f:\n",
    "    grids = f['grids']\n",
    "    \n",
    "    for k,g in enumerate(mygrids):\n",
    "        grids[:,:,k] = g"
   ]
  },
  {
   "cell_type": "markdown",
   "metadata": {},
   "source": [
    "Read in (select) specific grids with fancy indexing"
   ]
  },
  {
   "cell_type": "code",
   "execution_count": 22,
   "metadata": {},
   "outputs": [
    {
     "name": "stdout",
     "output_type": "stream",
     "text": [
      "(10, 10, 3)\n"
     ]
    }
   ],
   "source": [
    "with h5py.File('myfile.h5', 'r') as f:\n",
    "    mygrids = f['grids'][:,:,[0,2,4]]  # 3 grids out of 5\n",
    "    \n",
    "print(np.shape(mygrids))"
   ]
  },
  {
   "cell_type": "code",
   "execution_count": 23,
   "metadata": {},
   "outputs": [
    {
     "data": {
      "image/png": "[encoded data removed]",
      "text/plain": [
       "<Figure size 288x288 with 1 Axes>"
      ]
     },
     "metadata": {
      "needs_background": "light"
     },
     "output_type": "display_data"
    },
    {
     "data": {
      "image/png": "[encoded data removed]",
      "text/plain": [
       "<Figure size 288x288 with 1 Axes>"
      ]
     },
     "metadata": {
      "needs_background": "light"
     },
     "output_type": "display_data"
    },
    {
     "data": {
      "image/png": "[encoded data removed]",
      "text/plain": [
       "<Figure size 288x288 with 1 Axes>"
      ]
     },
     "metadata": {
      "needs_background": "light"
     },
     "output_type": "display_data"
    }
   ],
   "source": [
    "%matplotlib inline\n",
    "import matplotlib.pyplot as plt\n",
    "\n",
    "# Plot each grid to check dimensions are right\n",
    "[plt.matshow(mygrids[:,:,k]) for k in range(mygrids.shape[2])]\n",
    "plt.show()"
   ]
  },
  {
   "cell_type": "markdown",
   "metadata": {},
   "source": [
    "## Final thoughts on HDF5\n",
    "\n",
    "- Many small files is usually more practical than a few large ones\n",
    "- Read/Write is faster on smaller files (faster queries)\n",
    "- Network transfer is usually faster with smaller files\n",
    "- Storing a lot of data into a single file is susceptible to corruption\n",
    "- Many small files simplifies (embarrasingly) parallelization"
   ]
  },
  {
   "cell_type": "markdown",
   "metadata": {},
   "source": [
    "---"
   ]
  },
  {
   "cell_type": "code",
   "execution_count": null,
   "metadata": {},
   "outputs": [],
   "source": []
  }
 ],
 "metadata": {
  "kernelspec": {
   "display_name": "Python 2",
   "language": "python",
   "name": "python2"
  },
  "language_info": {
   "codemirror_mode": {
    "name": "ipython",
    "version": 2
   },
   "file_extension": ".py",
   "mimetype": "text/x-python",
   "name": "python",
   "nbconvert_exporter": "python",
   "pygments_lexer": "ipython2",
   "version": "2.7.15"
  }
 },
 "nbformat": 4,
 "nbformat_minor": 2
}
