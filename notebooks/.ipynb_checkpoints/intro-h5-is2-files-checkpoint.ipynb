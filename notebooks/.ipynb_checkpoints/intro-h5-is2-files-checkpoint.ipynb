{
 "cells": [
  {
   "cell_type": "markdown",
   "metadata": {},
   "source": [
    "# Intro to HDF5 (Part 1) \n",
    "\n",
    "## What's HDF5?\n",
    "\n",
    "* A file format optimized for numeric data\n",
    "* A hierarquichal structure to store information (like folders)\n",
    "* A self-describing container: Metadata + Data\n",
    "* A library with several functionalities (tools)\n",
    "* High level (user side): Easy access... Low level (machine side): binary, compressible\n",
    "* Fast I/O, parallel reading/writing (!), very good for HPC\n",
    "* Data can be read/written in chuncks, in-memory, out-of-memory  \n",
    "\n",
    "Read more: [https://www.hdfgroup.org/solutions/hdf5/](https://www.hdfgroup.org/solutions/hdf5/) \n",
    "\n",
    "## How popular is it?\n",
    "* Matlab `*.m` files **are** HDF5!\n",
    "* NetCDF4 files **are** HDF5!\n",
    "* ICESat-2 data comes in HDF5"
   ]
  },
  {
   "cell_type": "markdown",
   "metadata": {},
   "source": [
    "## Write data to HDF5\n",
    "\n",
    "Let's create some fake data"
   ]
  },
  {
   "cell_type": "code",
   "execution_count": 2,
   "metadata": {
    "scrolled": true
   },
   "outputs": [
    {
     "name": "stdout",
     "output_type": "stream",
     "text": [
      "[-0.23717205  0.25636534 -1.2359709  -0.17819253  2.26250594 -0.15879622\n",
      "  0.62747877  0.25526599  0.76231598 -0.2713629   0.10103909  0.3495517\n",
      " -0.86866723 -0.88600418 -0.92267082 -0.28516992  0.95870646  1.0162589\n",
      " -0.85560512 -1.55958731 -1.78423422 -0.26889223 -1.63607843 -0.69690583\n",
      "  0.37373232  1.1960719   1.06556209 -0.15937085 -0.22890312  0.16366117\n",
      " -0.0274558  -0.04373179 -0.68112354  0.85488444 -0.19015823 -0.69716024\n",
      " -0.56649574 -1.01653546  0.92750811 -0.61027308 -0.06707487 -1.25289983\n",
      " -0.24523637  1.05107342 -0.2411199   1.13802961  1.37275758 -1.03295529\n",
      "  0.88266166 -0.19954122 -1.26767614 -0.72899013 -0.02941521 -0.20418557\n",
      " -0.69000116  0.13064206 -0.57239932  0.00364977  0.22776025 -0.10693565\n",
      "  1.34010888 -0.74704128 -1.90660117  0.22693056 -0.00422506 -1.18580822\n",
      " -1.42613459 -1.1770485  -0.13139396 -0.55537969  1.11065822  1.93605265\n",
      "  0.61310298 -1.01215765  0.74464929 -0.13421463 -1.28691168  0.06897178\n",
      "  0.49326126 -1.36131023 -0.98092924 -1.00327733  0.54849446 -0.47334044\n",
      "  1.11441597 -2.27654931  0.48331355  0.46889888  0.38584116 -0.36480761\n",
      " -0.16143729 -0.12089491  0.19276761  0.31354821 -0.60684352  1.53483105\n",
      " -0.49205944 -0.59647044 -2.03490401  0.42907179]\n"
     ]
    }
   ],
   "source": [
    "import h5py\n",
    "import numpy as np\n",
    "\n",
    "x = np.random.randn(100)\n",
    "y = np.random.randn(100)\n",
    "z = np.random.randn(100)\n",
    "\n",
    "print(x)"
   ]
  },
  {
   "cell_type": "markdown",
   "metadata": {},
   "source": [
    "Save 1D arrays to file"
   ]
  },
  {
   "cell_type": "code",
   "execution_count": 3,
   "metadata": {},
   "outputs": [],
   "source": [
    "!rm myfile.h5                           # remove old file if previously written\n",
    "\n",
    "with h5py.File('myfile.h5', 'w') as f:  # open file in write mode\n",
    "    f['x'] = x                          # write data\n",
    "    f['y'] = y\n",
    "    f['z'] = z"
   ]
  },
  {
   "cell_type": "code",
   "execution_count": 4,
   "metadata": {},
   "outputs": [
    {
     "name": "stdout",
     "output_type": "stream",
     "text": [
      "myfile.h5\r\n"
     ]
    }
   ],
   "source": [
    "!ls *.h5  # Check the file was created"
   ]
  },
  {
   "cell_type": "markdown",
   "metadata": {},
   "source": [
    "**NOTE:**  \n",
    "**The HDF5 library comes with some useful command-line tools**  \n",
    "**There is no need to write code to inspect an HDF5 file!**"
   ]
  },
  {
   "cell_type": "code",
   "execution_count": 5,
   "metadata": {},
   "outputs": [
    {
     "name": "stdout",
     "output_type": "stream",
     "text": [
      "x                        Dataset {100}\r\n",
      "y                        Dataset {100}\r\n",
      "z                        Dataset {100}\r\n"
     ]
    }
   ],
   "source": [
    "!h5ls myfile.h5  # inspect the file w/command-line tools"
   ]
  },
  {
   "cell_type": "markdown",
   "metadata": {},
   "source": [
    "OBS: More sophysticated command-line tools below.\n"
   ]
  },
  {
   "cell_type": "markdown",
   "metadata": {},
   "source": [
    "## Read data from HDF5\n",
    "\n",
    "Load data (in memory) vs. get pointer (out of memory)"
   ]
  },
  {
   "cell_type": "code",
   "execution_count": 6,
   "metadata": {},
   "outputs": [
    {
     "name": "stdout",
     "output_type": "stream",
     "text": [
      "x (in mem):  [-0.23717205  0.25636534 -1.2359709  -0.17819253  2.26250594 -0.15879622\n",
      "  0.62747877  0.25526599  0.76231598 -0.2713629   0.10103909  0.3495517\n",
      " -0.86866723 -0.88600418 -0.92267082 -0.28516992  0.95870646  1.0162589\n",
      " -0.85560512 -1.55958731 -1.78423422 -0.26889223 -1.63607843 -0.69690583\n",
      "  0.37373232  1.1960719   1.06556209 -0.15937085 -0.22890312  0.16366117\n",
      " -0.0274558  -0.04373179 -0.68112354  0.85488444 -0.19015823 -0.69716024\n",
      " -0.56649574 -1.01653546  0.92750811 -0.61027308 -0.06707487 -1.25289983\n",
      " -0.24523637  1.05107342 -0.2411199   1.13802961  1.37275758 -1.03295529\n",
      "  0.88266166 -0.19954122 -1.26767614 -0.72899013 -0.02941521 -0.20418557\n",
      " -0.69000116  0.13064206 -0.57239932  0.00364977  0.22776025 -0.10693565\n",
      "  1.34010888 -0.74704128 -1.90660117  0.22693056 -0.00422506 -1.18580822\n",
      " -1.42613459 -1.1770485  -0.13139396 -0.55537969  1.11065822  1.93605265\n",
      "  0.61310298 -1.01215765  0.74464929 -0.13421463 -1.28691168  0.06897178\n",
      "  0.49326126 -1.36131023 -0.98092924 -1.00327733  0.54849446 -0.47334044\n",
      "  1.11441597 -2.27654931  0.48331355  0.46889888  0.38584116 -0.36480761\n",
      " -0.16143729 -0.12089491  0.19276761  0.31354821 -0.60684352  1.53483105\n",
      " -0.49205944 -0.59647044 -2.03490401  0.42907179]\n",
      "y (on disk): <HDF5 dataset \"y\": shape (100,), type \"<f8\">\n",
      "\n",
      "x (in mem):  <class 'numpy.ndarray'>\n",
      "y (on disk): <class 'h5py._hl.dataset.Dataset'>\n",
      "\n",
      "x (in mem):  (100,)\n",
      "y (on disk): (100,)\n"
     ]
    }
   ],
   "source": [
    "with h5py.File('myfile.h5', 'r') as f:  # open file\n",
    "    x = f['x'][:]                       # read data into memory\n",
    "    y = f['y']                          # get pointer to data on disk\n",
    "    \n",
    "    print('x (in mem): ', x)\n",
    "    print('y (on disk):', y)\n",
    "    print('')\n",
    "    print('x (in mem): ', type(x))\n",
    "    print('y (on disk):', type(y))\n",
    "    print('')\n",
    "    print('x (in mem): ', x.shape)\n",
    "    print('y (on disk):', y.shape)  # same info from out-of-memory array"
   ]
  },
  {
   "cell_type": "markdown",
   "metadata": {},
   "source": [
    "## Append data to HDF5\n",
    "\n",
    "Let's add some data with specific paths (groups)"
   ]
  },
  {
   "cell_type": "code",
   "execution_count": 7,
   "metadata": {},
   "outputs": [],
   "source": [
    "with h5py.File('myfile.h5', 'a') as f:\n",
    "    f['/path/to/data/vec'] = z**2\n",
    "    f['/path/to/data/mat'] = z.reshape(10,10)\n",
    "    \n",
    "    # NOTE: 'path', 'to' and 'data' are groups\n",
    "    # 'vec' and 'mat' are datasets"
   ]
  },
  {
   "cell_type": "code",
   "execution_count": 8,
   "metadata": {},
   "outputs": [
    {
     "name": "stdout",
     "output_type": "stream",
     "text": [
      "/                        Group\r\n",
      "/path                    Group\r\n",
      "/path/to                 Group\r\n",
      "/path/to/data            Group\r\n",
      "/path/to/data/mat        Dataset {10, 10}\r\n",
      "/path/to/data/vec        Dataset {100}\r\n",
      "/x                       Dataset {100}\r\n",
      "/y                       Dataset {100}\r\n",
      "/z                       Dataset {100}\r\n"
     ]
    }
   ],
   "source": [
    "# Inspect file from the command line\n",
    "!h5ls -r myfile.h5"
   ]
  },
  {
   "cell_type": "markdown",
   "metadata": {},
   "source": [
    "Now our HDF5 file has some structure!"
   ]
  },
  {
   "cell_type": "markdown",
   "metadata": {},
   "source": [
    "## Add metadata to HDF5\n",
    "\n",
    "Let's first inpect the metadata added by default"
   ]
  },
  {
   "cell_type": "code",
   "execution_count": 9,
   "metadata": {},
   "outputs": [
    {
     "name": "stdout",
     "output_type": "stream",
     "text": [
      "HDF5 \"myfile.h5\" {\r\n",
      "GROUP \"/\" {\r\n",
      "   GROUP \"path\" {\r\n",
      "      GROUP \"to\" {\r\n",
      "         GROUP \"data\" {\r\n",
      "            DATASET \"mat\" {\r\n",
      "               DATATYPE  H5T_IEEE_F64LE\r\n",
      "               DATASPACE  SIMPLE { ( 10, 10 ) / ( 10, 10 ) }\r\n",
      "            }\r\n",
      "            DATASET \"vec\" {\r\n",
      "               DATATYPE  H5T_IEEE_F64LE\r\n",
      "               DATASPACE  SIMPLE { ( 100 ) / ( 100 ) }\r\n",
      "            }\r\n",
      "         }\r\n",
      "      }\r\n",
      "   }\r\n",
      "   DATASET \"x\" {\r\n",
      "      DATATYPE  H5T_IEEE_F64LE\r\n",
      "      DATASPACE  SIMPLE { ( 100 ) / ( 100 ) }\r\n",
      "   }\r\n",
      "   DATASET \"y\" {\r\n",
      "      DATATYPE  H5T_IEEE_F64LE\r\n",
      "      DATASPACE  SIMPLE { ( 100 ) / ( 100 ) }\r\n",
      "   }\r\n",
      "   DATASET \"z\" {\r\n",
      "      DATATYPE  H5T_IEEE_F64LE\r\n",
      "      DATASPACE  SIMPLE { ( 100 ) / ( 100 ) }\r\n",
      "   }\r\n",
      "}\r\n",
      "}\r\n"
     ]
    }
   ],
   "source": [
    "# Inspect Metadate from the commaand line\n",
    "!h5dump -H myfile.h5"
   ]
  },
  {
   "cell_type": "markdown",
   "metadata": {},
   "source": [
    "Let's add our own metadata"
   ]
  },
  {
   "cell_type": "code",
   "execution_count": 10,
   "metadata": {},
   "outputs": [],
   "source": [
    "with h5py.File('myfile.h5', 'a') as f:\n",
    "    g = f['/path']               # pointer to group 'path'\n",
    "    d = f['/path/to/data/mat']   # pointer to dataset 'mat'\n",
    "    \n",
    "    # Metadata for the group\n",
    "    g.attrs['Description'] = 'This is a group'\n",
    "    g.attrs['Author'] = 'Your name'\n",
    "    g.attrs['email'] = 'yourname@domain.com'\n",
    "    \n",
    "    # Metadata for the data\n",
    "    d.attrs['Description'] = 'This is an array'\n",
    "    d.attrs['Date'] = '2019-06-01'\n",
    "    d.attrs['Version'] = '1.2'"
   ]
  },
  {
   "cell_type": "code",
   "execution_count": 11,
   "metadata": {},
   "outputs": [
    {
     "name": "stdout",
     "output_type": "stream",
     "text": [
      "HDF5 \"myfile.h5\" {\r\n",
      "GROUP \"/\" {\r\n",
      "   GROUP \"path\" {\r\n",
      "      ATTRIBUTE \"Author\" {\r\n",
      "         DATATYPE  H5T_STRING {\r\n",
      "            STRSIZE H5T_VARIABLE;\r\n",
      "            STRPAD H5T_STR_NULLTERM;\r\n",
      "            CSET H5T_CSET_UTF8;\r\n",
      "            CTYPE H5T_C_S1;\r\n",
      "         }\r\n",
      "         DATASPACE  SCALAR\r\n",
      "      }\r\n",
      "      ATTRIBUTE \"Description\" {\r\n",
      "         DATATYPE  H5T_STRING {\r\n",
      "            STRSIZE H5T_VARIABLE;\r\n",
      "            STRPAD H5T_STR_NULLTERM;\r\n",
      "            CSET H5T_CSET_UTF8;\r\n",
      "            CTYPE H5T_C_S1;\r\n",
      "         }\r\n",
      "         DATASPACE  SCALAR\r\n",
      "      }\r\n",
      "      ATTRIBUTE \"email\" {\r\n",
      "         DATATYPE  H5T_STRING {\r\n",
      "            STRSIZE H5T_VARIABLE;\r\n",
      "            STRPAD H5T_STR_NULLTERM;\r\n",
      "            CSET H5T_CSET_UTF8;\r\n",
      "            CTYPE H5T_C_S1;\r\n",
      "         }\r\n",
      "         DATASPACE  SCALAR\r\n",
      "      }\r\n",
      "      GROUP \"to\" {\r\n",
      "         GROUP \"data\" {\r\n",
      "            DATASET \"mat\" {\r\n",
      "               DATATYPE  H5T_IEEE_F64LE\r\n",
      "               DATASPACE  SIMPLE { ( 10, 10 ) / ( 10, 10 ) }\r\n",
      "               ATTRIBUTE \"Date\" {\r\n",
      "                  DATATYPE  H5T_STRING {\r\n",
      "                     STRSIZE H5T_VARIABLE;\r\n",
      "                     STRPAD H5T_STR_NULLTERM;\r\n",
      "                     CSET H5T_CSET_UTF8;\r\n",
      "                     CTYPE H5T_C_S1;\r\n",
      "                  }\r\n",
      "                  DATASPACE  SCALAR\r\n",
      "               }\r\n",
      "               ATTRIBUTE \"Description\" {\r\n",
      "                  DATATYPE  H5T_STRING {\r\n",
      "                     STRSIZE H5T_VARIABLE;\r\n",
      "                     STRPAD H5T_STR_NULLTERM;\r\n",
      "                     CSET H5T_CSET_UTF8;\r\n",
      "                     CTYPE H5T_C_S1;\r\n",
      "                  }\r\n",
      "                  DATASPACE  SCALAR\r\n",
      "               }\r\n",
      "               ATTRIBUTE \"Version\" {\r\n",
      "                  DATATYPE  H5T_STRING {\r\n",
      "                     STRSIZE H5T_VARIABLE;\r\n",
      "                     STRPAD H5T_STR_NULLTERM;\r\n",
      "                     CSET H5T_CSET_UTF8;\r\n",
      "                     CTYPE H5T_C_S1;\r\n",
      "                  }\r\n",
      "                  DATASPACE  SCALAR\r\n",
      "               }\r\n",
      "            }\r\n",
      "            DATASET \"vec\" {\r\n",
      "               DATATYPE  H5T_IEEE_F64LE\r\n",
      "               DATASPACE  SIMPLE { ( 100 ) / ( 100 ) }\r\n",
      "            }\r\n",
      "         }\r\n",
      "      }\r\n",
      "   }\r\n",
      "   DATASET \"x\" {\r\n",
      "      DATATYPE  H5T_IEEE_F64LE\r\n",
      "      DATASPACE  SIMPLE { ( 100 ) / ( 100 ) }\r\n",
      "   }\r\n",
      "   DATASET \"y\" {\r\n",
      "      DATATYPE  H5T_IEEE_F64LE\r\n",
      "      DATASPACE  SIMPLE { ( 100 ) / ( 100 ) }\r\n",
      "   }\r\n",
      "   DATASET \"z\" {\r\n",
      "      DATATYPE  H5T_IEEE_F64LE\r\n",
      "      DATASPACE  SIMPLE { ( 100 ) / ( 100 ) }\r\n",
      "   }\r\n",
      "}\r\n",
      "}\r\n"
     ]
    }
   ],
   "source": [
    "# Inspect Metadata from the commaand line\n",
    "!h5dump -H myfile.h5"
   ]
  },
  {
   "cell_type": "markdown",
   "metadata": {},
   "source": [
    "## Inspect HDF5 from Python\n",
    "\n",
    "Let's do the same as above but using Python code"
   ]
  },
  {
   "cell_type": "code",
   "execution_count": 12,
   "metadata": {},
   "outputs": [
    {
     "name": "stdout",
     "output_type": "stream",
     "text": [
      "<KeysViewHDF5 ['path', 'x', 'y', 'z']>\n"
     ]
    }
   ],
   "source": [
    "f = h5py.File('myfile.h5', 'r')  # keep it open\n",
    "\n",
    "# Inspect base groups quickly\n",
    "print(f.keys())"
   ]
  },
  {
   "cell_type": "markdown",
   "metadata": {},
   "source": [
    "Inspect the full structure w/metadata"
   ]
  },
  {
   "cell_type": "code",
   "execution_count": 13,
   "metadata": {},
   "outputs": [
    {
     "name": "stdout",
     "output_type": "stream",
     "text": [
      "path\n",
      "    Author: Your name\n",
      "    Description: This is a group\n",
      "    email: yourname@domain.com\n",
      "path/to\n",
      "path/to/data\n",
      "path/to/data/mat\n",
      "    Date: 2019-06-01\n",
      "    Description: This is an array\n",
      "    Version: 1.2\n",
      "path/to/data/vec\n",
      "x\n",
      "y\n",
      "z\n"
     ]
    }
   ],
   "source": [
    "def print_attrs(name, obj):\n",
    "    print(name)\n",
    "    for key,val in obj.attrs.items():\n",
    "        print(\"    %s: %s\" % (key, val))\n",
    "\n",
    "f.visititems(print_attrs)        "
   ]
  },
  {
   "cell_type": "code",
   "execution_count": 14,
   "metadata": {},
   "outputs": [],
   "source": [
    "f.close()"
   ]
  },
  {
   "cell_type": "markdown",
   "metadata": {},
   "source": [
    "## Create an extendable dataset\n",
    "\n",
    "Create an empty container (called `grids`) extendable in the 3rd dim"
   ]
  },
  {
   "cell_type": "code",
   "execution_count": 15,
   "metadata": {},
   "outputs": [],
   "source": [
    "#!rm myfile.h5  # just in case\n",
    "\n",
    "with h5py.File('myfile.h5', 'a') as f:\n",
    "    dset = f.create_dataset(\"grids\", (10,10,5), maxshape=(10,10,None), dtype='f4')"
   ]
  },
  {
   "cell_type": "markdown",
   "metadata": {},
   "source": [
    "Check that our created container has an infinity dimension"
   ]
  },
  {
   "cell_type": "code",
   "execution_count": 16,
   "metadata": {},
   "outputs": [
    {
     "name": "stdout",
     "output_type": "stream",
     "text": [
      "/                        Group\r\n",
      "/grids                   Dataset {10, 10, 5/Inf}\r\n",
      "/path                    Group\r\n",
      "/path/to                 Group\r\n",
      "/path/to/data            Group\r\n",
      "/path/to/data/mat        Dataset {10, 10}\r\n",
      "/path/to/data/vec        Dataset {100}\r\n",
      "/x                       Dataset {100}\r\n",
      "/y                       Dataset {100}\r\n",
      "/z                       Dataset {100}\r\n"
     ]
    }
   ],
   "source": [
    "!h5ls -r myfile.h5"
   ]
  },
  {
   "cell_type": "markdown",
   "metadata": {},
   "source": [
    "Create a bunch of 2D grids to save to our empty container"
   ]
  },
  {
   "cell_type": "code",
   "execution_count": 17,
   "metadata": {},
   "outputs": [
    {
     "name": "stdout",
     "output_type": "stream",
     "text": [
      "(5, 10, 10)\n"
     ]
    }
   ],
   "source": [
    "mygrids = [np.random.randn(10,10) for _ in range(5)]\n",
    "\n",
    "print(np.shape(mygrids))  # 5 grids of 10 by 10"
   ]
  },
  {
   "cell_type": "markdown",
   "metadata": {},
   "source": [
    "Save grids one at a time and close the file"
   ]
  },
  {
   "cell_type": "code",
   "execution_count": 18,
   "metadata": {},
   "outputs": [],
   "source": [
    "with h5py.File('myfile.h5', 'a') as f:\n",
    "    grids = f['grids']\n",
    "    \n",
    "    for k,g in enumerate(mygrids):\n",
    "        grids[:,:,k] = g"
   ]
  },
  {
   "cell_type": "markdown",
   "metadata": {},
   "source": [
    "Read in (select) specific grids with fancy indexing"
   ]
  },
  {
   "cell_type": "code",
   "execution_count": 19,
   "metadata": {},
   "outputs": [
    {
     "name": "stdout",
     "output_type": "stream",
     "text": [
      "(10, 10, 3)\n"
     ]
    }
   ],
   "source": [
    "with h5py.File('myfile.h5', 'r') as f:\n",
    "    mygrids = f['grids'][:,:,[0,2,4]]  # 3 grids out of 5\n",
    "    \n",
    "print(np.shape(mygrids))"
   ]
  },
  {
   "cell_type": "code",
   "execution_count": 20,
   "metadata": {},
   "outputs": [
    {
     "data": {
      "image/png": "[encoded data removed]",
      "text/plain": [
       "<Figure size 288x288 with 1 Axes>"
      ]
     },
     "metadata": {
      "needs_background": "light"
     },
     "output_type": "display_data"
    },
    {
     "data": {
      "image/png": "[encoded data removed]",
      "text/plain": [
       "<Figure size 288x288 with 1 Axes>"
      ]
     },
     "metadata": {
      "needs_background": "light"
     },
     "output_type": "display_data"
    },
    {
     "data": {
      "image/png": "[encoded data removed]",
      "text/plain": [
       "<Figure size 288x288 with 1 Axes>"
      ]
     },
     "metadata": {
      "needs_background": "light"
     },
     "output_type": "display_data"
    }
   ],
   "source": [
    "%matplotlib inline\n",
    "import matplotlib.pyplot as plt\n",
    "\n",
    "# Plot each grid to check dimensions are right\n",
    "[plt.matshow(mygrids[:,:,k]) for k in range(mygrids.shape[2])]\n",
    "plt.show()"
   ]
  },
  {
   "cell_type": "markdown",
   "metadata": {},
   "source": [
    "## Final thoughts on HDF5\n",
    "\n",
    "- Many small files is usually more practical than a few large ones\n",
    "- Read/Write is faster on smaller files (faster queries)\n",
    "- Network transfer is usually faster with smaller files\n",
    "- Storing a lot of data into a single file is susceptible to corruption\n",
    "- Many small files simplifies (embarrasingly) parallelization"
   ]
  },
  {
   "cell_type": "markdown",
   "metadata": {},
   "source": [
    "---"
   ]
  },
  {
   "cell_type": "markdown",
   "metadata": {},
   "source": [
    "# Reducing ICESat-2 files (Part 2) "
   ]
  },
  {
   "cell_type": "markdown",
   "metadata": {},
   "source": [
    "* Select files of interest (segment and time)\n",
    "* Select area of interest (subset lon)\n",
    "* Reduce selected files with variables of interest\n",
    "* Separate tracks into asc/des\n",
    "* Plot to check the files\n",
    "\n",
    "\n",
    "OBS: Using Kamb bounding box for now:\n",
    "\n",
    "xmin, xmax, ymin, ymax = [-1124782, 81623, -919821, -96334]"
   ]
  },
  {
   "cell_type": "markdown",
   "metadata": {},
   "source": [
    "## How ICESat-2 files are organized \n",
    "\n",
    "ICESat-2 ground tracks are subsetted into granules (individual files)\n",
    "\n",
    "Granules are then grouped into latitudinal bands (segments)\n",
    "\n",
    "![Segments](segments.png \"Latitudinal bands (Segments)\")\n",
    "\n",
    "\n",
    "File naming convention:\n",
    "\n",
    "`ATL06_20181120202321_08130101_001_01.h5`\n",
    "\n",
    "`ATL06_[yyyymmdd][hhmmss]_[RGTccss]_[vvv_rr].h5`\n",
    "\n",
    "where\n",
    "\n",
    "`ATL_06` => L3A Land Ice product    \n",
    "\n",
    "`yyyymmdd` => Year, month, day of data acquisition    \n",
    "\n",
    "`hhmmss` => Hour, minute, second of data acquisition   \n",
    "\n",
    "`RGT` => Reference Ground Track    \n",
    "\n",
    "`cc` => Cycle Number   \n",
    "\n",
    "`ss` => Segment number (latitude band)   \n",
    "\n",
    "`vvv_rr` => Version and revision numbers  "
   ]
  },
  {
   "cell_type": "markdown",
   "metadata": {},
   "source": [
    "## Select files of interest\n",
    "\n",
    "We will use the **file name** info for this (no need to open the files).  \n",
    "\n",
    "Alternatively, we could retrieve this info from the **Metadata**.\n",
    "\n",
    "To select files withint a time interval and segment, all we need is:\n",
    "\n",
    "`yyyymmdd, hhmmss, ss`"
   ]
  },
  {
   "cell_type": "markdown",
   "metadata": {},
   "source": [
    "Let's firt get a list with all file names"
   ]
  },
  {
   "cell_type": "code",
   "execution_count": 1,
   "metadata": {},
   "outputs": [
    {
     "name": "stdout",
     "output_type": "stream",
     "text": [
      "Total number of files: 0\n"
     ]
    }
   ],
   "source": [
    "#from utils import *\n",
    "\n",
    "# Get file list from local folder\n",
    "if 1:\n",
    "    from glob import glob\n",
    "\n",
    "    files = glob('data/*.h5')\n",
    "    \n",
    "# Get file list from remote folder (through SSH)\n",
    "elif 0:    \n",
    "    import paramiko  # pip install paramiko\n",
    "\n",
    "    def list_files(host, user, pwd, cmd):\n",
    "        # Create an SSH client instance.\n",
    "        client = paramiko.SSHClient()\n",
    "\n",
    "        # Create a 'host_keys' object\n",
    "        # and load the local known hosts  \n",
    "        host_keys = client.load_system_host_keys()\n",
    "\n",
    "        # Connect to our client w/remote machine credentials\n",
    "        client.connect(host, username=user, password=pwd)\n",
    "\n",
    "        # Execute command on remote system,\n",
    "        # and get input, output and error variables\n",
    "        stdin, stdout, stderr = client.exec_command(cmd)\n",
    "\n",
    "        # Iterate over stdout\n",
    "        files = [line.strip('\\n') for line in stdout]\n",
    "\n",
    "        # Close the connection to client\n",
    "        client.close()\n",
    "        return files\n",
    "\n",
    "    host, user, pwd = 'devon.jpl.nasa.gov', 'paolofer', '********'  #FIXME: REMOVE PASSWORD!!!\n",
    "    cmd = 'ls /u/devon-r2/shared_data/icesat2/atl06/rel205/raw/*.h5'\n",
    "\n",
    "    files = list_files(host, user, pwd, cmd)\n",
    "    \n",
    "# Get file list from Amazon S3\n",
    "elif 0:\n",
    "    # Code here...\n",
    "    pass\n",
    "    \n",
    "print('Total number of files:', len(files))"
   ]
  },
  {
   "cell_type": "markdown",
   "metadata": {},
   "source": [
    "Filter file names by segment and time interval"
   ]
  },
  {
   "cell_type": "code",
   "execution_count": 27,
   "metadata": {},
   "outputs": [],
   "source": [
    "import os\n",
    "import datetime as dt\n",
    "\n",
    "# File name format: ATL06_[yyyymmdd][hhmmss]_[RGTccss]_[vvv_rr].h5\n",
    "\n",
    "#NOTE: Need to simplify this function\n",
    "def time_from_fname(fname):\n",
    "    t = fname.split('_')[1]\n",
    "    y, m , d, h, mn, s = t[:4], t[4:6], t[6:8], t[8:10], t[10:12], t[12:14]\n",
    "    time = dt.datetime(int(y), int(m), int(d), int(h), int(mn), int(s))\n",
    "    return time\n",
    "\n",
    "\n",
    "def segment_from_fname(fname):\n",
    "    s = fname.split('_')[2]\n",
    "    return int(s[-2:])\n",
    "\n",
    "\n",
    "def select_files(files, segments=[10,11,12], t1=(2019,1,1), t2=(2019,2,1)):\n",
    "    t1 = dt.datetime(*t1)\n",
    "    t2 = dt.datetime(*t2)\n",
    "    files_out = []\n",
    "    for f in files:\n",
    "        fname = os.path.basename(f)\n",
    "        time = time_from_fname(fname)\n",
    "        segment = segment_from_fname(fname)\n",
    "        if t1 <= time <= t2 and segment in segments:\n",
    "            files_out.append(f)\n",
    "    return files_out"
   ]
  },
  {
   "cell_type": "code",
   "execution_count": 28,
   "metadata": {},
   "outputs": [
    {
     "name": "stdout",
     "output_type": "stream",
     "text": [
      "/u/devon-r2/shared_data/icesat2/atl06/rel205/raw/ATL06_20190101001723_00540210_205_01.h5\n",
      "/u/devon-r2/shared_data/icesat2/atl06/rel205/raw/ATL06_20190101002504_00540211_205_01.h5\n",
      "/u/devon-r2/shared_data/icesat2/atl06/rel205/raw/ATL06_20190101003047_00540212_205_01.h5\n",
      "/u/devon-r2/shared_data/icesat2/atl06/rel205/raw/ATL06_20190101015140_00550210_205_01.h5\n",
      "/u/devon-r2/shared_data/icesat2/atl06/rel205/raw/ATL06_20190101015921_00550211_205_01.h5\n",
      "Number of files: 1388\n"
     ]
    }
   ],
   "source": [
    "files = select_files(files, segments=[10,11,12], t1=(2019,1,1), t2=(2019,2,1))\n",
    "\n",
    "for f in files[:5]: print(f)\n",
    "print('Number of files:', len(files))"
   ]
  },
  {
   "cell_type": "markdown",
   "metadata": {},
   "source": [
    "Let's download the selected files"
   ]
  },
  {
   "cell_type": "code",
   "execution_count": 4,
   "metadata": {},
   "outputs": [],
   "source": [
    "# code for downloading selected files to -> data/\n",
    "# The files should already be dowloaded. This cell should not be executed."
   ]
  },
  {
   "cell_type": "markdown",
   "metadata": {},
   "source": [
    "## Reduce ICESat-2 files\n",
    "\n",
    "***\n",
    "**NOTE:** \n",
    "\n",
    "*This is neither the only nor the best way to handled ICESat-2 data files.*\n",
    "\n",
    "*This is **one** way that works well for large-scale processing (e.g. full continent) on parallel machines (e.g. HPC clusters).*\n",
    "\n",
    "*The idea is to (a) simplify the I/O of a complex workflow and (b) take advantage of embrrasingly parallelization.*\n",
    "***"
   ]
  },
  {
   "cell_type": "markdown",
   "metadata": {},
   "source": [
    "Let's check the ICESat-2 file structure"
   ]
  },
  {
   "cell_type": "code",
   "execution_count": 29,
   "metadata": {},
   "outputs": [
    {
     "name": "stdout",
     "output_type": "stream",
     "text": [
      "data/*.h5: unable to open file\r\n"
     ]
    }
   ],
   "source": [
    "!h5ls -r data/*.h5"
   ]
  },
  {
   "cell_type": "markdown",
   "metadata": {},
   "source": [
    "Let's code a simple reader that:\n",
    "\n",
    "- Select variables of interest (x, y, t, h...)  \n",
    "- Filter data points based on quality flag and bbox   \n",
    "- Separate into beams and ascending/descending tracks  \n",
    "- Save data to a simpler HDF5 structure"
   ]
  },
  {
   "cell_type": "code",
   "execution_count": 26,
   "metadata": {},
   "outputs": [],
   "source": [
    "#from utils import gps2dyr  <=== NOT WORKING!\n",
    "\n",
    "def read_atl06(ifile, bbox=None):\n",
    "    \"\"\" \n",
    "    Read 1 ATL06 file and output 12 reduced files. \n",
    "    \n",
    "    Extract variables of interest and separate the ATL06 file \n",
    "    into each beam (ground track) and ascending/descending orbits.\n",
    "    \"\"\"\n",
    "\n",
    "    # Each beam is a group\n",
    "    group = ['./gt1l','./gt1r','./gt2l','./gt2r','./gt3l','./gt3r']\n",
    "\n",
    "    # Loop trough beams\n",
    "    for k,g in enumerate(group):\n",
    "    \n",
    "        #-----------------------------------#\n",
    "        # 1) Read in data for a single beam #\n",
    "        #-----------------------------------#\n",
    "    \n",
    "        # Load variables into memory (more can be added!)\n",
    "        with h5py.File(ifile, 'r') as fi:\n",
    "            lat = fi[g+'/land_ice_segments/latitude'][:]\n",
    "            lon = fi[g+'/land_ice_segments/longitude'][:]\n",
    "            h_li = fi[g+'/land_ice_segments/h_li'][:]\n",
    "            s_li = fi[g+'/land_ice_segments/h_li_sigma'][:]\n",
    "            t_dt = fi[g+'/land_ice_segments/delta_time'][:]\n",
    "            flag = fi[g+'/land_ice_segments/atl06_quality_summary'][:]\n",
    "            s_fg = fi[g+'/land_ice_segments/fit_statistics/signal_selection_source'][:]\n",
    "            snr = fi[g+'/land_ice_segments/fit_statistics/snr_significance'][:]\n",
    "            h_rb = fi[g+'/land_ice_segments/fit_statistics/h_robust_sprd'][:]\n",
    "            dac = fi[g+'/land_ice_segments/geophysical/dac'][:]\n",
    "            f_sn = fi[g+'/land_ice_segments/geophysical/bsnow_conf'][:]\n",
    "            dh_fit_dx = fi[g+'/land_ice_segments/fit_statistics/dh_fit_dx'][:]\n",
    "            tide_earth = fi[g+'/land_ice_segments/geophysical/tide_earth'][:]\n",
    "            tide_load = fi[g+'/land_ice_segments/geophysical/tide_load'][:]\n",
    "            tide_ocean = fi[g+'/land_ice_segments/geophysical/tide_ocean'][:]\n",
    "            tide_pole = fi[g+'/land_ice_segments/geophysical/tide_pole'][:]\n",
    "            t_ref = fi['/ancillary_data/atlas_sdp_gps_epoch'][:]\n",
    "            rgt = fi['/orbit_info/rgt'][:] * np.ones(len(lat))\n",
    "\n",
    "        #---------------------------------------------#\n",
    "        # 2) Filter data according region and quality #\n",
    "        #---------------------------------------------#\n",
    "        \n",
    "        # Select a region of interest\n",
    "        if bbox:\n",
    "            lonmin, lonmax, latmin, latmax = bbox\n",
    "            bbox_mask = (lon >= lonmin) & (lon <= lonmax) & (lat >= latmin) & (lat <= latmax)\n",
    "        else:\n",
    "            bbox_mask = np.ones_like(lat, dtype=bool)  # get all\n",
    "            \n",
    "        # Only keep good data, and data inside bbox\n",
    "        mask = (flag == 0) & (np.abs(h_li) < 10e3) & (bbox_mask > 0)\n",
    "        \n",
    "        # Update variables\n",
    "        lat, lon, h_li, s_li, t_dt, h_rb, s_fg, snr, q_flag, f_sn, \\\n",
    "            tide_earth, tide_load, tide_ocean, tide_pole, dac, rgt = \\\n",
    "                lat[mask], lon[mask], h_li[mask],s_li[mask], t_dt[mask], h_rb[mask], \\\n",
    "                s_fg[mask], snr[mask], q_flag[mask], f_sn[mask], tide_earth[mask], \\\n",
    "                tide_load[mask], tide_ocean[mask], tide_pole[mask], dac[mask], rgt[mask]\n",
    "\n",
    "        # Test for no data\n",
    "        if len(h_li) == 0: return\n",
    "\n",
    "        #-------------------------------------#\n",
    "        # 3) Convert time and separate tracks #\n",
    "        #-------------------------------------#\n",
    "        \n",
    "        # Time in GPS seconds (secs sinde 1980...)\n",
    "        t_gps = t_ref + t_dt\n",
    "\n",
    "        # Time in decimal years\n",
    "        t_year = gps2dyr(t_gps)\n",
    "\n",
    "        # Determine orbit type\n",
    "        i_asc, i_des = track_type(t_year, lat)\n",
    "        \n",
    "        #-----------------------#\n",
    "        # 4) Save selected data #\n",
    "        #-----------------------#\n",
    "        \n",
    "        # Define output file name\n",
    "        ofile = ifile.replace('.h5', '_'+g[2:]+'.h5')\n",
    "        \n",
    "        #NOTE: Asc/Des can be saved in a single file w/index=0|1\n",
    "                \n",
    "        # Save ascending track data\n",
    "        if len(lat[i_asc]) > 1:\n",
    "            fasc = ofile.replace('.h5', '_A.h5')\n",
    "            with h5py.File(fasc, 'w') as fa:\n",
    "                fa['orbit'] = orb[i_asc][:]\n",
    "                fa['lon'] = lon[i_asc][:]\n",
    "                fa['lat'] = lat[i_asc][:]\n",
    "                fa['h_elv'] = h_li[i_asc][:]\n",
    "                fa['s_elv'] = s_li[i_asc][:]\n",
    "                fa['t_year'] = t_li[i_asc][:]\n",
    "                fa['h_rb'] = h_rb[i_asc][:]\n",
    "                fa['s_fg'] = s_fg[i_asc][:]\n",
    "                fa['snr'] = snr[i_asc][:]\n",
    "                fa['q_flg'] = q_flag[i_asc][:]\n",
    "                fa['f_sn'] = f_sn[i_asc][:]\n",
    "                fa['t_sec'] = t_gps[i_asc][:]\n",
    "                fa['tide_load'] = tide_load[i_asc][:]\n",
    "                fa['tide_ocean'] = tide_ocean[i_asc][:]\n",
    "                fa['tide_pole'] = tide_pole[i_asc][:]\n",
    "                fa['tide_earth'] = tide_earth[i_asc][:]\n",
    "                fa['dac'] = dac[i_asc][:]\n",
    "                fa['rgt'] = rgt[i_asc][:]                \n",
    "\n",
    "                print('asc ->', fasc)\n",
    "\n",
    "        # Save desending track data\n",
    "        if len(lat[i_des]) > 1:\n",
    "            fdes = ofile.replace('.h5', '_D.h5')\n",
    "            with h5py.File(fdes, 'w') as fd:\n",
    "                fd['orbit'] = orb[i_des][:]\n",
    "                fd['lon'] = lon[i_des][:]\n",
    "                fd['lat'] = lat[i_des][:]\n",
    "                fd['h_elv'] = h_li[i_des][:]\n",
    "                fd['s_li'] = s_li[i_des][:]\n",
    "                fd['t_year'] = t_li[i_des][:]\n",
    "                fd['h_rb'] = h_rb[i_des][:]\n",
    "                fd['s_fg'] = s_fg[i_des][:]\n",
    "                fd['snr'] = snr[i_des][:]\n",
    "                fd['q_flg'] = q_flag[i_des][:]\n",
    "                fd['f_sn'] = f_sn[i_des][:]\n",
    "                fd['t_sec'] = t_gps[i_des][:]\n",
    "                fd['tide_load'] = tide_load[i_des][:]\n",
    "                fd['tide_ocean'] = tide_ocean[i_des][:]\n",
    "                fd['tide_pole'] = tide_pole[i_des][:]\n",
    "                fd['tide_earth'] = tide_earth[i_des][:]\n",
    "                fd['dac'] = dac[i_des][:]\n",
    "                fd['rgt'] = rgt[i_des][:]\n",
    "                \n",
    "                print('des ->', fdes)\n",
    "                "
   ]
  },
  {
   "cell_type": "markdown",
   "metadata": {},
   "source": [
    "* Merge beams for crossover analysis?"
   ]
  },
  {
   "cell_type": "markdown",
   "metadata": {},
   "source": [
    "## Simple parallelization"
   ]
  },
  {
   "cell_type": "code",
   "execution_count": 25,
   "metadata": {},
   "outputs": [
    {
     "name": "stdout",
     "output_type": "stream",
     "text": [
      "running in parallel (16 jobs) ...\n"
     ]
    },
    {
     "name": "stderr",
     "output_type": "stream",
     "text": [
      "[Parallel(n_jobs=16)]: Using backend LokyBackend with 16 concurrent workers.\n",
      "[Parallel(n_jobs=16)]: Done   0 out of   0 | elapsed:    0.0s finished\n"
     ]
    }
   ],
   "source": [
    "njobs = 16\n",
    "files = []\n",
    "\n",
    "if njobs == 1:\n",
    "    print('running in serial ...')\n",
    "    [read_atl06(f) for f in files]\n",
    "\n",
    "else:\n",
    "    print('running in parallel (%d jobs) ...' % njobs)\n",
    "    from joblib import Parallel, delayed\n",
    "    Parallel(n_jobs=njobs, verbose=5)(delayed(read_atl06)(f) for f in files)\n"
   ]
  },
  {
   "cell_type": "markdown",
   "metadata": {},
   "source": [
    "Let's check our created files"
   ]
  },
  {
   "cell_type": "code",
   "execution_count": 28,
   "metadata": {},
   "outputs": [
    {
     "name": "stdout",
     "output_type": "stream",
     "text": [
      "ls: data/*.h5: No such file or directory\r\n"
     ]
    }
   ],
   "source": [
    "!ls data/*.h5"
   ]
  },
  {
   "cell_type": "code",
   "execution_count": 27,
   "metadata": {},
   "outputs": [
    {
     "name": "stdout",
     "output_type": "stream",
     "text": [
      "data/*gt2r_A.h5: unable to open file\r\n"
     ]
    }
   ],
   "source": [
    "!h5ls -r data/*gt2r_A.h5"
   ]
  },
  {
   "cell_type": "markdown",
   "metadata": {},
   "source": [
    "## Plot some data to check"
   ]
  },
  {
   "cell_type": "markdown",
   "metadata": {},
   "source": [
    "* Plot points within region to check (map and scatter)\n",
    "* Plot tracks/beams to check (map and profiles)\n",
    "* Show single program with all of the above in one go (`readatl06.py`)"
   ]
  },
  {
   "cell_type": "code",
   "execution_count": null,
   "metadata": {},
   "outputs": [],
   "source": []
  }
 ],
 "metadata": {
  "kernelspec": {
   "display_name": "Python 3",
   "language": "python",
   "name": "python3"
  },
  "language_info": {
   "codemirror_mode": {
    "name": "ipython",
    "version": 3
   },
   "file_extension": ".py",
   "mimetype": "text/x-python",
   "name": "python",
   "nbconvert_exporter": "python",
   "pygments_lexer": "ipython3",
   "version": "3.7.3"
  }
 },
 "nbformat": 4,
 "nbformat_minor": 2
}
